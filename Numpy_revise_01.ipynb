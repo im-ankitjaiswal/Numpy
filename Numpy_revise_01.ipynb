{
  "nbformat": 4,
  "nbformat_minor": 0,
  "metadata": {
    "colab": {
      "provenance": [],
      "toc_visible": true,
      "authorship_tag": "ABX9TyNtlzLIQXwo0lRGNCLpC6ix",
      "include_colab_link": true
    },
    "kernelspec": {
      "name": "python3",
      "display_name": "Python 3"
    },
    "language_info": {
      "name": "python"
    }
  },
  "cells": [
    {
      "cell_type": "markdown",
      "metadata": {
        "id": "view-in-github",
        "colab_type": "text"
      },
      "source": [
        "<a href=\"https://colab.research.google.com/github/im-ankitjaiswal/Python-Course/blob/main/Numpy_revise_01.ipynb\" target=\"_parent\"><img src=\"https://colab.research.google.com/assets/colab-badge.svg\" alt=\"Open In Colab\"/></a>"
      ]
    },
    {
      "cell_type": "code",
      "source": [
        "import numpy as np\n"
      ],
      "metadata": {
        "id": "J5224xPU3eB1"
      },
      "execution_count": null,
      "outputs": []
    },
    {
      "cell_type": "markdown",
      "source": [
        "NumPy is a Python library used for working with arrays.\n",
        "\n",
        "It also has functions for working in domain of linear algebra, fourier transform, and matrices.\n",
        "\n",
        "NumPy was created in 2005 by Travis Oliphant. It is an open source project and you can use it freely.\n",
        "\n",
        "NumPy stands for Numerical Python.\n"
      ],
      "metadata": {
        "id": "PU09oGhQAMCZ"
      }
    },
    {
      "cell_type": "markdown",
      "source": [
        "# Why Use NumPy?\n",
        "\n",
        "In Python we have lists that serve the purpose of arrays, but they are slow to process.\n",
        "\n",
        "NumPy aims to provide an array object that is up to 50x faster than traditional Python lists.\n",
        "\n",
        "The array object in NumPy is called ndarray, it provides a lot of supporting functions that make working with ndarray very easy.\n",
        "\n",
        "Arrays are very frequently used in data science, where speed and resources are very important."
      ],
      "metadata": {
        "id": "LSE_-VL8AUHs"
      }
    },
    {
      "cell_type": "markdown",
      "source": [
        "## Why is NumPy Faster Than Lists?\n",
        "NumPy arrays are stored at one continuous place in memory unlike lists, so processes can access and manipulate them very efficiently.\n",
        "\n",
        "This behavior is called locality of reference in computer science.\n",
        "\n",
        "This is the main reason why NumPy is faster than lists. Also it is optimized to work with latest CPU architectures.\n"
      ],
      "metadata": {
        "id": "G4Qz4wDkAory"
      }
    },
    {
      "cell_type": "markdown",
      "source": [
        "# Create a NumPy ndarray Object\n",
        "NumPy is used to work with arrays. The array object in NumPy is called ndarray.\n",
        "\n",
        "We can create a NumPy ndarray object by using the array() function."
      ],
      "metadata": {
        "id": "ywei9JFmBkF0"
      }
    },
    {
      "cell_type": "code",
      "source": [
        "import numpy as np\n",
        "\n",
        "arr = np.array([1, 2, 3, 4, 5])\n",
        "\n",
        "print(arr)\n",
        "\n",
        "print(type(arr))"
      ],
      "metadata": {
        "colab": {
          "base_uri": "https://localhost:8080/"
        },
        "id": "7Ml-tqQsBl2k",
        "outputId": "dfe7249c-63e8-4de9-b775-073b114b7440"
      },
      "execution_count": null,
      "outputs": [
        {
          "output_type": "stream",
          "name": "stdout",
          "text": [
            "[1 2 3 4 5]\n",
            "<class 'numpy.ndarray'>\n"
          ]
        }
      ]
    },
    {
      "cell_type": "markdown",
      "source": [
        "type(): This built-in Python function tells us the type of the object passed to it. Like in above code it shows that arr is numpy.ndarray type."
      ],
      "metadata": {
        "id": "PavlBqefBz8k"
      }
    },
    {
      "cell_type": "markdown",
      "source": [
        "To create an ndarray, we can pass a list, tuple or any array-like object into the array() method, and it will be converted into an ndarray:"
      ],
      "metadata": {
        "id": "JHZ_QWxkB5rt"
      }
    },
    {
      "cell_type": "code",
      "source": [
        "# Use a tuple to create a NumPy array:\n",
        "arr = np.array((1, 2, 3, 4, 5))\n",
        "print(arr)"
      ],
      "metadata": {
        "colab": {
          "base_uri": "https://localhost:8080/"
        },
        "id": "Cry5D4fNB08j",
        "outputId": "242c87b7-13aa-4123-81f8-f5ad4939c5c0"
      },
      "execution_count": null,
      "outputs": [
        {
          "output_type": "stream",
          "name": "stdout",
          "text": [
            "[1 2 3 4 5]\n"
          ]
        }
      ]
    },
    {
      "cell_type": "markdown",
      "source": [
        "# Dimensions in Arrays\n",
        "A dimension in arrays is one level of array depth (nested arrays)."
      ],
      "metadata": {
        "id": "YpPDDYhoCDHi"
      }
    },
    {
      "cell_type": "markdown",
      "source": [
        "0-D Arrays\n",
        "0-D arrays, or Scalars, are the elements in an array. Each value in an array is a 0-D array."
      ],
      "metadata": {
        "id": "ogd88tqbCMIJ"
      }
    },
    {
      "cell_type": "code",
      "source": [
        "# Create a 0-D array with value 42\n",
        "arr = np.array(42)\n",
        "print(arr)"
      ],
      "metadata": {
        "colab": {
          "base_uri": "https://localhost:8080/"
        },
        "id": "yGw5vNdjCNH1",
        "outputId": "f9910f50-0dce-4bf3-ae56-a3cd439cc976"
      },
      "execution_count": null,
      "outputs": [
        {
          "output_type": "stream",
          "name": "stdout",
          "text": [
            "42\n"
          ]
        }
      ]
    },
    {
      "cell_type": "markdown",
      "source": [
        "# 1-D Arrays\n",
        "An array that has 0-D arrays as its elements is called uni-dimensional or 1-D array.\n",
        "\n",
        "These are the most common and basic arrays.\n",
        "\n"
      ],
      "metadata": {
        "id": "S1N2ldnNCWNz"
      }
    },
    {
      "cell_type": "code",
      "source": [
        "# Create a 1-D array containing the values 1,2,3,4,5:\n",
        "arr = np.array([1, 2, 3, 4, 5])\n",
        "\n",
        "print(arr)"
      ],
      "metadata": {
        "colab": {
          "base_uri": "https://localhost:8080/"
        },
        "id": "S6WSLsyMCXdd",
        "outputId": "16cfb736-953c-4a9b-a663-dc6d90f41e95"
      },
      "execution_count": null,
      "outputs": [
        {
          "output_type": "stream",
          "name": "stdout",
          "text": [
            "[1 2 3 4 5]\n"
          ]
        }
      ]
    },
    {
      "cell_type": "markdown",
      "source": [
        "# 2-D Arrays\n",
        "An array that has 1-D arrays as its elements is called a 2-D array.\n",
        "\n",
        "These are often used to represent matrix or 2nd order tensors."
      ],
      "metadata": {
        "id": "rBLrd009CfhJ"
      }
    },
    {
      "cell_type": "code",
      "source": [
        "arr = np.array([[1, 2, 3], [4, 5, 6]])\n",
        "print(arr)"
      ],
      "metadata": {
        "colab": {
          "base_uri": "https://localhost:8080/"
        },
        "id": "dCvtL1ZNChtg",
        "outputId": "8338f64c-65fa-4a1f-cb84-d47a70d6da7b"
      },
      "execution_count": null,
      "outputs": [
        {
          "output_type": "stream",
          "name": "stdout",
          "text": [
            "[[1 2 3]\n",
            " [4 5 6]]\n"
          ]
        }
      ]
    },
    {
      "cell_type": "markdown",
      "source": [
        "# Check Number of Dimensions?\n",
        "NumPy Arrays provides the ndim attribute that returns an integer that tells us how many dimensions the array have"
      ],
      "metadata": {
        "id": "M9R-3SY1Crwt"
      }
    },
    {
      "cell_type": "code",
      "source": [
        "import numpy as np\n",
        "\n",
        "a = np.array(42)\n",
        "b = np.array([1, 2, 3, 4, 5])\n",
        "c = np.array([[1, 2, 3], [4, 5, 6]])\n",
        "d = np.array([[[1, 2, 3], [4, 5, 6]], [[1, 2, 3], [4, 5, 6]]])\n",
        "\n",
        "print(a.ndim)\n",
        "print(b.ndim)\n",
        "print(c.ndim)\n",
        "print(d.ndim)"
      ],
      "metadata": {
        "colab": {
          "base_uri": "https://localhost:8080/"
        },
        "id": "YUQXvMWACtM0",
        "outputId": "9484ba91-f75a-4124-eefd-3ca6d567f41d"
      },
      "execution_count": null,
      "outputs": [
        {
          "output_type": "stream",
          "name": "stdout",
          "text": [
            "0\n",
            "1\n",
            "2\n",
            "3\n"
          ]
        }
      ]
    },
    {
      "cell_type": "markdown",
      "source": [
        "# Higher Dimensional Arrays\n",
        "An array can have any number of dimensions.\n",
        "\n",
        "When the array is created, you can define the number of dimensions by using the ndmin argument."
      ],
      "metadata": {
        "id": "LDJ2Hh59C4SF"
      }
    },
    {
      "cell_type": "code",
      "source": [
        "import numpy as np\n",
        "\n",
        "arr = np.array([1, 2, 3, 4], ndmin=5)\n",
        "\n",
        "print(arr)\n",
        "print('number of dimensions :', arr.ndim)"
      ],
      "metadata": {
        "colab": {
          "base_uri": "https://localhost:8080/"
        },
        "id": "pKXTrAfyC5jb",
        "outputId": "8016eb69-6836-4966-f575-34ba321ea0e1"
      },
      "execution_count": null,
      "outputs": [
        {
          "output_type": "stream",
          "name": "stdout",
          "text": [
            "[[[[[1 2 3 4]]]]]\n",
            "number of dimensions : 5\n"
          ]
        }
      ]
    },
    {
      "cell_type": "markdown",
      "source": [
        "# NumPy Array Slicing\n",
        "Slicing arrays\n",
        "Slicing in python means taking elements from one given index to another given index.\n",
        "\n",
        "We pass slice instead of index like this: [start:end].\n",
        "\n",
        "We can also define the step, like this: [start:end:step].\n",
        "\n",
        "If we don't pass start its considered 0\n",
        "\n",
        "If we don't pass end its considered length of array in that dimension\n",
        "\n",
        "If we don't pass step its considered 1"
      ],
      "metadata": {
        "id": "cT7ur1d4QNYN"
      }
    },
    {
      "cell_type": "markdown",
      "source": [
        "# Data Types in NumPy\n",
        "NumPy has some extra data types, and refer to data types with one character, like i for integers, u for unsigned integers etc.\n",
        "\n",
        "Below is a list of all data types in NumPy and the characters used to represent them.\n",
        "\n",
        "\n",
        "i - integer\n",
        "b - boolean\n",
        "u - unsigned integer\n",
        "f - float\n",
        "c - complex float\n",
        "m - timedelta\n",
        "M - datetime\n",
        "O - object\n",
        "S - string\n",
        "U - unicode string\n",
        "V - fixed chunk of memory for other type ( void )\n",
        "\n",
        "\n"
      ],
      "metadata": {
        "id": "6hA0KsN8TFsm"
      }
    },
    {
      "cell_type": "code",
      "source": [
        "# Checking the Data Type of an Array\n",
        "# The NumPy array object has a property called dtype that returns the data type of the array:\n",
        "\n",
        "\n",
        "arr = np.array([1, 2, 3, 4])\n",
        "\n",
        "print(arr.dtype)"
      ],
      "metadata": {
        "colab": {
          "base_uri": "https://localhost:8080/"
        },
        "id": "eahmm6cYTcp7",
        "outputId": "48307db7-2abc-4249-9fd7-e59cfd7264bb"
      },
      "execution_count": null,
      "outputs": [
        {
          "output_type": "stream",
          "name": "stdout",
          "text": [
            "int64\n"
          ]
        }
      ]
    },
    {
      "cell_type": "markdown",
      "source": [
        "**NumPy Array Shape**\n",
        "\n",
        "Shape of an Array\n",
        "The shape of an array is the number of elements in each dimension.\n",
        "\n"
      ],
      "metadata": {
        "id": "H1Yc-HXYVMQz"
      }
    },
    {
      "cell_type": "code",
      "source": [
        "arr = np.array([[1, 2, 3, 4], [5, 6, 7, 8]])\n",
        "\n",
        "print(arr.shape)\n",
        "\n",
        "# The example above returns (2, 4), which means that the array has 2 dimensions, where the first dimension has 2 elements and the second has 4."
      ],
      "metadata": {
        "colab": {
          "base_uri": "https://localhost:8080/"
        },
        "id": "tOYz_vl7VL0R",
        "outputId": "3e2454ab-70ac-49a1-c057-68b1ac921f8c"
      },
      "execution_count": null,
      "outputs": [
        {
          "output_type": "stream",
          "name": "stdout",
          "text": [
            "(2, 4)\n"
          ]
        }
      ]
    },
    {
      "cell_type": "markdown",
      "source": [
        "What does the shape tuple represent?\n",
        "Integers at every index tells about the number of elements the corresponding dimension has.\n",
        "\n",
        "In the example above at index-4 we have value 4, so we can say that 5th ( 4 + 1 th) dimension has 4 elements."
      ],
      "metadata": {
        "id": "-zt3aH1cV4jw"
      }
    },
    {
      "cell_type": "markdown",
      "source": [
        "# Reshaping arrays\n",
        "Reshaping means changing the shape of an array.\n",
        "\n",
        "The shape of an array is the number of elements in each dimension.\n",
        "\n",
        "By reshaping we can add or remove dimensions or change number of elements in each dimension."
      ],
      "metadata": {
        "id": "8xEKd6HvXvZn"
      }
    },
    {
      "cell_type": "code",
      "source": [
        "# Convert the following 1-D array with 12 elements into a 2-D array.\n",
        "# The outermost dimension will have 4 arrays, each with 3 elements:\n",
        "\n",
        "arr = np.array([1, 2, 3, 4, 5, 6, 7, 8, 9, 10, 11, 12])\n",
        "\n",
        "newarr = arr.reshape(4, 3)\n",
        "\n",
        "print(newarr)"
      ],
      "metadata": {
        "colab": {
          "base_uri": "https://localhost:8080/"
        },
        "id": "uHjDLbB0Xw2G",
        "outputId": "68c4bc70-8ffa-4000-cc04-4d2ec81930fe"
      },
      "execution_count": null,
      "outputs": [
        {
          "output_type": "stream",
          "name": "stdout",
          "text": [
            "[[ 1  2  3]\n",
            " [ 4  5  6]\n",
            " [ 7  8  9]\n",
            " [10 11 12]]\n"
          ]
        }
      ]
    },
    {
      "cell_type": "code",
      "source": [
        "# Convert the following 1-D array with 12 elements into a 3-D array.\n",
        "# The outermost dimension will have 2 arrays that contains 3 arrays, each with 2 elements:\n",
        "\n",
        "import numpy as np\n",
        "\n",
        "arr = np.array([1, 2, 3, 4, 5, 6, 7, 8, 9, 10, 11, 12])\n",
        "\n",
        "newarr = arr.reshape(2, 3, 2)\n",
        "\n",
        "print(newarr)"
      ],
      "metadata": {
        "id": "53LMiOnUc6Vw",
        "colab": {
          "base_uri": "https://localhost:8080/"
        },
        "outputId": "2a8d3b21-cf4c-4219-9062-55d11c68c12f"
      },
      "execution_count": null,
      "outputs": [
        {
          "output_type": "stream",
          "name": "stdout",
          "text": [
            "[[[ 1  2]\n",
            "  [ 3  4]\n",
            "  [ 5  6]]\n",
            "\n",
            " [[ 7  8]\n",
            "  [ 9 10]\n",
            "  [11 12]]]\n"
          ]
        }
      ]
    },
    {
      "cell_type": "code",
      "source": [
        "# Can We Reshape Into any Shape?\n",
        "# Yes, as long as the elements required for reshaping are equal in both shapes.\n",
        "# We can reshape an 8 elements 1D array into 4 elements in 2 rows 2D array but we cannot reshape it into a 3 elements 3 rows 2D array as that would require 3x3 = 9 elements.\n",
        "\n",
        "\n",
        "arr = np.array([1, 2, 3, 4, 5, 6, 7, 8])\n",
        "\n",
        "newarr = arr.reshape(3, 3)\n",
        "\n",
        "print(newarr)"
      ],
      "metadata": {
        "colab": {
          "base_uri": "https://localhost:8080/",
          "height": 211
        },
        "id": "cH7BdLc8dAOg",
        "outputId": "6e075da6-e954-48d6-bdf7-a0ade16e9f17"
      },
      "execution_count": null,
      "outputs": [
        {
          "output_type": "error",
          "ename": "ValueError",
          "evalue": "cannot reshape array of size 8 into shape (3,3)",
          "traceback": [
            "\u001b[0;31m---------------------------------------------------------------------------\u001b[0m",
            "\u001b[0;31mValueError\u001b[0m                                Traceback (most recent call last)",
            "\u001b[0;32m<ipython-input-14-858ccdab9767>\u001b[0m in \u001b[0;36m<cell line: 8>\u001b[0;34m()\u001b[0m\n\u001b[1;32m      6\u001b[0m \u001b[0marr\u001b[0m \u001b[0;34m=\u001b[0m \u001b[0mnp\u001b[0m\u001b[0;34m.\u001b[0m\u001b[0marray\u001b[0m\u001b[0;34m(\u001b[0m\u001b[0;34m[\u001b[0m\u001b[0;36m1\u001b[0m\u001b[0;34m,\u001b[0m \u001b[0;36m2\u001b[0m\u001b[0;34m,\u001b[0m \u001b[0;36m3\u001b[0m\u001b[0;34m,\u001b[0m \u001b[0;36m4\u001b[0m\u001b[0;34m,\u001b[0m \u001b[0;36m5\u001b[0m\u001b[0;34m,\u001b[0m \u001b[0;36m6\u001b[0m\u001b[0;34m,\u001b[0m \u001b[0;36m7\u001b[0m\u001b[0;34m,\u001b[0m \u001b[0;36m8\u001b[0m\u001b[0;34m]\u001b[0m\u001b[0;34m)\u001b[0m\u001b[0;34m\u001b[0m\u001b[0;34m\u001b[0m\u001b[0m\n\u001b[1;32m      7\u001b[0m \u001b[0;34m\u001b[0m\u001b[0m\n\u001b[0;32m----> 8\u001b[0;31m \u001b[0mnewarr\u001b[0m \u001b[0;34m=\u001b[0m \u001b[0marr\u001b[0m\u001b[0;34m.\u001b[0m\u001b[0mreshape\u001b[0m\u001b[0;34m(\u001b[0m\u001b[0;36m3\u001b[0m\u001b[0;34m,\u001b[0m \u001b[0;36m3\u001b[0m\u001b[0;34m)\u001b[0m\u001b[0;34m\u001b[0m\u001b[0;34m\u001b[0m\u001b[0m\n\u001b[0m\u001b[1;32m      9\u001b[0m \u001b[0;34m\u001b[0m\u001b[0m\n\u001b[1;32m     10\u001b[0m \u001b[0mprint\u001b[0m\u001b[0;34m(\u001b[0m\u001b[0mnewarr\u001b[0m\u001b[0;34m)\u001b[0m\u001b[0;34m\u001b[0m\u001b[0;34m\u001b[0m\u001b[0m\n",
            "\u001b[0;31mValueError\u001b[0m: cannot reshape array of size 8 into shape (3,3)"
          ]
        }
      ]
    },
    {
      "cell_type": "code",
      "source": [
        "# Check if the returned array is a copy or a view:\n",
        "\n",
        "import numpy as np\n",
        "\n",
        "arr = np.array([1, 2, 3, 4, 5, 6, 7, 8])\n",
        "\n",
        "print(arr.reshape(2, 4).base)"
      ],
      "metadata": {
        "colab": {
          "base_uri": "https://localhost:8080/"
        },
        "id": "V3nHouK_dLWD",
        "outputId": "c1387bcd-bf19-417e-9aac-90ae3f3011c2"
      },
      "execution_count": null,
      "outputs": [
        {
          "output_type": "stream",
          "name": "stdout",
          "text": [
            "[1 2 3 4 5 6 7 8]\n"
          ]
        }
      ]
    },
    {
      "cell_type": "markdown",
      "source": [
        "# Flattening the arrays\n",
        "Flattening array means converting a multidimensional array into a 1D array.\n",
        "\n",
        "We can use reshape(-1) to do this."
      ],
      "metadata": {
        "id": "YuOq3tifdQgX"
      }
    },
    {
      "cell_type": "code",
      "source": [
        "import numpy as np\n",
        "\n",
        "arr = np.array([[1, 2, 3], [4, 5, 6]])\n",
        "\n",
        "newarr = arr.reshape(-1)\n",
        "\n",
        "print(newarr)"
      ],
      "metadata": {
        "colab": {
          "base_uri": "https://localhost:8080/"
        },
        "id": "m1Rf6gSldSOB",
        "outputId": "e9ccb988-2f2d-4387-d610-ebbac340fca1"
      },
      "execution_count": null,
      "outputs": [
        {
          "output_type": "stream",
          "name": "stdout",
          "text": [
            "[1 2 3 4 5 6]\n"
          ]
        }
      ]
    },
    {
      "cell_type": "markdown",
      "source": [
        "If there is \"n\" dimension then we can not write n for loops to get the elemebts from array"
      ],
      "metadata": {
        "id": "FVlAibJujL4e"
      }
    },
    {
      "cell_type": "markdown",
      "source": [
        "# Iterating Arrays Using nditer() - used for complex iternation onitems\n",
        " The function nditer() is a helping function that can be used from very basic to very advanced iterations. It solves some basic issues which we face in iteration, lets go through it with examples."
      ],
      "metadata": {
        "id": "tj0R_NL3jho0"
      }
    },
    {
      "cell_type": "code",
      "source": [
        "\n",
        "\n",
        "# Iterating on Each Scalar Element\n",
        "# In basic for loops, iterating through each scalar of an array we need to use n for loops which can be difficult to write for arrays with very high dimensionality.\n",
        "\n",
        "# Example\n",
        "# Iterate through the following 3-D array:\n",
        "\n",
        "import numpy as np\n",
        "\n",
        "arr = np.array([[[1, 2], [3, 4]], [[5, 6], [7, 8]]])\n",
        "\n",
        "for x in np.nditer(arr):\n",
        "  print(x)"
      ],
      "metadata": {
        "id": "sCXgoU-VjZuX",
        "colab": {
          "base_uri": "https://localhost:8080/"
        },
        "outputId": "ec397d80-4ee1-4466-8fc6-0ac950ebd747"
      },
      "execution_count": null,
      "outputs": [
        {
          "output_type": "stream",
          "name": "stdout",
          "text": [
            "1\n",
            "2\n",
            "3\n",
            "4\n",
            "5\n",
            "6\n",
            "7\n",
            "8\n"
          ]
        }
      ]
    },
    {
      "cell_type": "markdown",
      "source": [
        "# NumPy Splitting Array\n",
        "Splitting is reverse operation of Joining.\n",
        "\n",
        "Joining merges multiple arrays into one and Splitting breaks one array into multiple.\n",
        "\n",
        "We use array_split() for splitting arrays, we pass it the array we want to split and the number of splits."
      ],
      "metadata": {
        "id": "KHEfbfwnsmrr"
      }
    },
    {
      "cell_type": "code",
      "source": [
        "\n",
        "arr = np.array([1, 2, 3, 4, 5, 6])\n",
        "\n",
        "newarr = np.array_split(arr, 3)\n",
        "\n",
        "print(newarr[0])\n",
        "print(newarr[1])\n",
        "print(newarr[2])\n",
        "newarr"
      ],
      "metadata": {
        "colab": {
          "base_uri": "https://localhost:8080/"
        },
        "id": "Ig55TK-_eVLv",
        "outputId": "8ac108a1-e650-49a9-873f-70bd63a8a879"
      },
      "execution_count": null,
      "outputs": [
        {
          "output_type": "stream",
          "name": "stdout",
          "text": [
            "[1 2]\n",
            "[3 4]\n",
            "[5 6]\n"
          ]
        },
        {
          "output_type": "execute_result",
          "data": {
            "text/plain": [
              "[array([1, 2]), array([3, 4]), array([5, 6])]"
            ]
          },
          "metadata": {},
          "execution_count": 4
        }
      ]
    },
    {
      "cell_type": "code",
      "source": [
        "# Splitting 2-D Arrays\n",
        "# Use the same syntax when splitting 2-D arrays.\n",
        "# Use the array_split() method, pass in the array you want to split and the number of splits you want to do.\n",
        "\n",
        "\n",
        "import numpy as np\n",
        "\n",
        "arr = np.array([[1, 2], [3, 4], [5, 6], [7, 8], [9, 10], [11, 12]])\n",
        "\n",
        "newarr = np.array_split(arr, 3)\n",
        "\n",
        "print(newarr)"
      ],
      "metadata": {
        "colab": {
          "base_uri": "https://localhost:8080/"
        },
        "id": "jyUiOAZ2fJE-",
        "outputId": "de696c0f-1600-4e9a-912c-7bbdc3d62352"
      },
      "execution_count": null,
      "outputs": [
        {
          "output_type": "stream",
          "name": "stdout",
          "text": [
            "[array([[1, 2],\n",
            "       [3, 4]]), array([[5, 6],\n",
            "       [7, 8]]), array([[ 9, 10],\n",
            "       [11, 12]])]\n"
          ]
        }
      ]
    },
    {
      "cell_type": "markdown",
      "source": [
        "# NumPy Searching Arrays\n",
        "You can search an array for a certain value, and return the indexes that get a match.\n",
        "\n",
        "To search an array, use the where() method."
      ],
      "metadata": {
        "id": "rESA9lhdh43H"
      }
    },
    {
      "cell_type": "code",
      "source": [
        "\n",
        "arr = np.array([1, 2, 3, 4, 5, 4, 4])\n",
        "\n",
        "x = np.where(arr == 4)\n",
        "\n",
        "print(x)\n",
        "# returns the index where element where found"
      ],
      "metadata": {
        "colab": {
          "base_uri": "https://localhost:8080/"
        },
        "id": "yJIra5kyiESQ",
        "outputId": "28d6961e-f33d-4def-f77f-b61c2a21a85e"
      },
      "execution_count": null,
      "outputs": [
        {
          "output_type": "stream",
          "name": "stdout",
          "text": [
            "(array([3, 5, 6]),)\n"
          ]
        }
      ]
    },
    {
      "cell_type": "markdown",
      "source": [
        "# Search Sorted\n",
        "There is a method called searchsorted() which performs a binary search in the array, and returns the index where the specified value would be inserted to maintain the search order.\n",
        "\n",
        "The searchsorted() method is assumed to be used on sorted arrays.\n",
        "\n",
        "Example\n",
        "Find the indexes where the value 7 should be inserted:"
      ],
      "metadata": {
        "id": "ZDE-1RMWlPiy"
      }
    },
    {
      "cell_type": "code",
      "source": [
        "import numpy as np\n",
        "\n",
        "arr = np.array([6, 7, 8, 9])\n",
        "\n",
        "x = np.searchsorted(arr, 7)\n",
        "\n",
        "print(x)\n"
      ],
      "metadata": {
        "colab": {
          "base_uri": "https://localhost:8080/"
        },
        "id": "tDsS2cPplNjQ",
        "outputId": "b820eb1a-4a15-4feb-f151-98d995ebdd78"
      },
      "execution_count": null,
      "outputs": [
        {
          "output_type": "stream",
          "name": "stdout",
          "text": [
            "1\n"
          ]
        }
      ]
    },
    {
      "cell_type": "markdown",
      "source": [
        "Example explained: The number 7 should be inserted on index 1 to remain the sort order.\n",
        "\n",
        "The method starts the search from the left and returns the first index where the number 7 is no longer larger than the next value."
      ],
      "metadata": {
        "id": "HWLl_-83ljmi"
      }
    },
    {
      "cell_type": "markdown",
      "source": [
        "\n",
        "# Search From the Right Side\n",
        "By default the left most index is returned, but we can give side='right' to return the right most index instead.\n",
        "\n",
        "Example\n",
        "Find the indexes where the value 7 should be inserted, starting from the right:\n",
        "\n"
      ],
      "metadata": {
        "id": "WadPyLrXlXbg"
      }
    },
    {
      "cell_type": "code",
      "source": [
        "import numpy as np\n",
        "\n",
        "arr = np.array([6, 7, 8, 9])\n",
        "\n",
        "x = np.searchsorted(arr, 7, side='right')\n",
        "\n",
        "print(x)\n"
      ],
      "metadata": {
        "colab": {
          "base_uri": "https://localhost:8080/"
        },
        "id": "rLyYx34olbgQ",
        "outputId": "ba0ff0ad-104e-4769-f51f-298c2b192415"
      },
      "execution_count": null,
      "outputs": [
        {
          "output_type": "stream",
          "name": "stdout",
          "text": [
            "2\n"
          ]
        }
      ]
    },
    {
      "cell_type": "markdown",
      "source": [
        "Example explained: The number 7 should be inserted on index 2 to remain the sort order.\n",
        "\n",
        "The method starts the search from the right and returns the first index where the number 7 is no longer less than the next value."
      ],
      "metadata": {
        "id": "1cvM5yb5lqbT"
      }
    },
    {
      "cell_type": "markdown",
      "source": [
        "# NumPy Sorting Arrays\n",
        "Sorting means putting elements in an ordered sequence.\n",
        "\n",
        "Ordered sequence is any sequence that has an order corresponding to elements, like numeric or alphabetical, ascending or descending.\n",
        "\n",
        "The NumPy ndarray object has a function called sort(), that will sort a specified array.\n"
      ],
      "metadata": {
        "id": "m5CJZcrdl24L"
      }
    },
    {
      "cell_type": "code",
      "source": [
        "\n",
        "arr = np.array([3, 2, 0, 1])\n",
        "\n",
        "print(np.sort(arr))"
      ],
      "metadata": {
        "colab": {
          "base_uri": "https://localhost:8080/"
        },
        "id": "5saz_YjjmD93",
        "outputId": "be3b1c4e-3636-4306-eceb-c7c63067a663"
      },
      "execution_count": null,
      "outputs": [
        {
          "output_type": "stream",
          "name": "stdout",
          "text": [
            "[0 1 2 3]\n"
          ]
        }
      ]
    },
    {
      "cell_type": "markdown",
      "source": [
        "# Sorting a 2-D Array\n",
        " If you use the sort() method on a 2-D array, both arrays will be sorted:"
      ],
      "metadata": {
        "id": "kUWYg-WimfXR"
      }
    },
    {
      "cell_type": "code",
      "source": [
        "\n",
        "\n",
        "# Example\n",
        "# Sort a 2-D array:\n",
        "\n",
        "import numpy as np\n",
        "\n",
        "arr = np.array([[3, 2, 4], [5, 0, 1]])\n",
        "\n",
        "print(np.sort(arr))"
      ],
      "metadata": {
        "colab": {
          "base_uri": "https://localhost:8080/"
        },
        "id": "j172r_TlmZux",
        "outputId": "5b622d53-425c-48fa-c57e-99df055811a9"
      },
      "execution_count": null,
      "outputs": [
        {
          "output_type": "stream",
          "name": "stdout",
          "text": [
            "[[2 3 4]\n",
            " [0 1 5]]\n"
          ]
        }
      ]
    },
    {
      "cell_type": "markdown",
      "source": [
        "# NumPy Filter Array\n",
        "Getting some elements out of an existing array and creating a new array out of them is called filtering.\n",
        "\n",
        "In NumPy, you filter an array using a boolean index list."
      ],
      "metadata": {
        "id": "HjB6TlUOuKxW"
      }
    },
    {
      "cell_type": "code",
      "source": [
        "import numpy as np\n",
        "\n",
        "arr = np.array([41, 42, 43, 44])\n",
        "\n",
        "x = arr[[True, False, True, False]]\n",
        "\n",
        "print(x)\n"
      ],
      "metadata": {
        "colab": {
          "base_uri": "https://localhost:8080/"
        },
        "id": "MQ8fwjbUuXdj",
        "outputId": "f5e69cc8-4294-44e3-b141-76bc0cf21b6b"
      },
      "execution_count": null,
      "outputs": [
        {
          "output_type": "stream",
          "name": "stdout",
          "text": [
            "[41 43]\n"
          ]
        }
      ]
    },
    {
      "cell_type": "markdown",
      "source": [
        "The example above will return [41, 43], why?\n",
        "\n",
        "Because the new array contains only the values where the filter array had the value True, in this case, index 0 and 2."
      ],
      "metadata": {
        "id": "eJF2s0AZu6mN"
      }
    },
    {
      "cell_type": "code",
      "source": [
        "# Create a filter array that will return only values higher than 42:\n",
        "\n",
        "import numpy as np\n",
        "\n",
        "arr = np.array([41, 42, 43, 44])\n",
        "\n",
        "# Create an empty list\n",
        "filter_arr = []\n",
        "\n",
        "# go through each element in arr\n",
        "for element in arr:\n",
        "  # if the element is higher than 42, set the value to True, otherwise False:\n",
        "  if element > 42:\n",
        "    filter_arr.append(True)\n",
        "  else:\n",
        "    filter_arr.append(False)\n",
        "\n",
        "newarr = arr[filter_arr]\n",
        "\n",
        "print(filter_arr)\n",
        "print(newarr) # contains the filtered value from the array"
      ],
      "metadata": {
        "colab": {
          "base_uri": "https://localhost:8080/"
        },
        "id": "UQw8q2govRLT",
        "outputId": "3d731d92-a79e-42fc-d6db-b75c44204f45"
      },
      "execution_count": null,
      "outputs": [
        {
          "output_type": "stream",
          "name": "stdout",
          "text": [
            "[False, False, True, True]\n",
            "[43 44]\n"
          ]
        }
      ]
    },
    {
      "cell_type": "markdown",
      "source": [
        "# **Broadcasting Basics** 🔥\n",
        "Broadcasting in NumPy is a powerful mechanism that allows NumPy to work with arrays of different shapes during arithmetic operations. It is an elegant way to vectorize array operations so that looping is done in C instead of Python, allowing for efficient computation."
      ],
      "metadata": {
        "id": "HUPFnPn49kkl"
      }
    },
    {
      "cell_type": "markdown",
      "source": [
        "The simplest example of broadcasting occurs when performing arithmetic operations between an array and a scalar. NumPy allows you to add a scalar to an array or multiply an array by a scalar directly:"
      ],
      "metadata": {
        "id": "Q7bnaoR--B2p"
      }
    },
    {
      "cell_type": "code",
      "source": [
        "import numpy as np\n",
        "\n",
        "# Example 1: Adding a scalar to an array\n",
        "array = np.array([1, 2, 3])\n",
        "scalar = 2\n",
        "result = array + scalar  # [3, 4, 5]\n",
        "print(result)"
      ],
      "metadata": {
        "colab": {
          "base_uri": "https://localhost:8080/"
        },
        "id": "5B-BTpAc-FRH",
        "outputId": "185c1007-f448-4faf-fc1c-22860899c62b"
      },
      "execution_count": null,
      "outputs": [
        {
          "output_type": "stream",
          "name": "stdout",
          "text": [
            "[3 4 5]\n"
          ]
        }
      ]
    },
    {
      "cell_type": "markdown",
      "source": [
        "# Broadcasting with Arrays of Different Shapes\n",
        "Broadcasting can also happen with arrays of different shapes. For two arrays to be broadcast-compatible, the following rules must be satisfied:\n",
        "\n",
        "If the arrays differ in their number of dimensions, the shape of the smaller array is padded with ones on its left side.\n",
        "Arrays are compatible for broadcasting if in all dimensions, the axis lengths are either the same or one of them is 1.\n",
        "Here are some examples:\n",
        "\n",
        "Example 2: Broadcasting a 1D array to a 2D array"
      ],
      "metadata": {
        "id": "RIf4tVzT-PiB"
      }
    },
    {
      "cell_type": "code",
      "source": [
        "# 2D array\n",
        "matrix = np.array([[1, 2, 3], [4, 5, 6]])\n",
        "\n",
        "# 1D array\n",
        "vector = np.array([1, 0, 1])\n",
        "\n",
        "# Broadcasting the 1D array to match the 2D array\n",
        "result = matrix + vector\n",
        "# result is:\n",
        "# array([[2, 2, 4],\n",
        "#        [5, 5, 7]])\n"
      ],
      "metadata": {
        "id": "PPYAp2KY-Ssp"
      },
      "execution_count": null,
      "outputs": []
    },
    {
      "cell_type": "code",
      "source": [
        "# In this example, the 1D array vector is broadcasted to each row of the 2D array matrix."
      ],
      "metadata": {
        "id": "xP6Qblor-Vxw"
      },
      "execution_count": null,
      "outputs": []
    },
    {
      "cell_type": "markdown",
      "source": [
        "# **Practical Example**\n",
        "Suppose we have a dataset where we need to normalize the features by subtracting the mean and dividing by the standard deviation of each feature. Here's how you can do it using broadcasting:"
      ],
      "metadata": {
        "id": "XavlJzil-lEP"
      }
    },
    {
      "cell_type": "code",
      "source": [
        "# Example dataset (rows are samples, columns are features)\n",
        "data = np.array([[1.0, 2.0, 3.0],\n",
        "                 [4.0, 5.0, 6.0],\n",
        "                 [7.0, 8.0, 9.0]])\n",
        "\n",
        "# Compute the mean and standard deviation along the columns\n",
        "mean = np.mean(data, axis=0)  # mean along columns\n",
        "std = np.std(data, axis=0)    # standard deviation along columns\n",
        "\n",
        "# Normalize the dataset\n",
        "normalized_data = (data - mean) / std\n",
        "# normalized_data is:\n",
        "# array([[-1.22474487, -1.22474487, -1.22474487],\n",
        "#        [ 0.        ,  0.        ,  0.        ],\n",
        "#        [ 1.22474487,  1.22474487,  1.22474487]])\n"
      ],
      "metadata": {
        "id": "H2A3kRht-pcT"
      },
      "execution_count": null,
      "outputs": []
    },
    {
      "cell_type": "markdown",
      "source": [
        "In this example, the arrays mean and std are broadcasted across each row of data to perform element-wise subtraction and division.\n",
        "\n",
        "Conclusion\n",
        "Broadcasting allows NumPy to perform operations on arrays of different shapes and sizes efficiently. It eliminates the need for explicit loops and makes code more readable and concise. Understanding broadcasting rules is essential for writing efficient numerical computations in NumPy."
      ],
      "metadata": {
        "id": "SJKsTsNy_t1U"
      }
    },
    {
      "cell_type": "markdown",
      "source": [
        "# **Real Life Usefullness of Broadcasting**"
      ],
      "metadata": {
        "id": "TGtwvDhcAES-"
      }
    },
    {
      "cell_type": "markdown",
      "source": [
        "# Example 1: Image Processing - Adjusting Brightness\n",
        "Suppose you have an image represented as a 3D NumPy array (height x width x color channels), and you want to increase the brightness of the image by a certain factor. This can be done using broadcasting:"
      ],
      "metadata": {
        "id": "Zdn-aN5zAU_P"
      }
    },
    {
      "cell_type": "code",
      "source": [
        "import numpy as np\n",
        "\n",
        "# Example image (height=2, width=3, color channels=3)\n",
        "image = np.array([[[100, 150, 200], [120, 170, 220], [130, 180, 230]],\n",
        "                  [[140, 190, 240], [150, 200, 250], [160, 210, 260]]], dtype=np.uint8)\n",
        "\n",
        "# Brightness factor\n",
        "brightness_increase = 50\n",
        "\n",
        "# Broadcasting to increase brightness\n",
        "brightened_image = np.clip(image + brightness_increase, 0, 255)\n",
        "# brightened_image is:\n",
        "# array([[[150, 200, 250],\n",
        "#         [170, 220, 255],\n",
        "#         [180, 230, 255]],\n",
        "#        [[190, 240, 255],\n",
        "#         [200, 250, 255],\n",
        "#         [210, 255, 255]]], dtype=uint8)\n"
      ],
      "metadata": {
        "id": "ip0Yy2SyARY9"
      },
      "execution_count": null,
      "outputs": []
    },
    {
      "cell_type": "markdown",
      "source": [
        "Here, the scalar brightness_increase is broadcasted to each pixel in the 3D image array, and np.clip is used to ensure pixel values stay within the valid range [0, 255]."
      ],
      "metadata": {
        "id": "p03KjuVtAXWb"
      }
    },
    {
      "cell_type": "markdown",
      "source": [
        "# Example 2: Financial Data - Normalizing Stock Prices"
      ],
      "metadata": {
        "id": "h3y1j2_lAbgp"
      }
    },
    {
      "cell_type": "markdown",
      "source": [
        "Imagine you have daily stock prices for multiple companies over a year, and you want to normalize these prices by subtracting the mean and dividing by the standard deviation for each company."
      ],
      "metadata": {
        "id": "DyAy0p-kAecP"
      }
    },
    {
      "cell_type": "code",
      "source": [
        "# Example stock prices (rows are days, columns are companies)\n",
        "stock_prices = np.array([[100, 200, 300],\n",
        "                         [110, 210, 310],\n",
        "                         [120, 220, 320],\n",
        "                         [130, 230, 330]])\n",
        "\n",
        "# Compute the mean and standard deviation along the columns (for each company)\n",
        "mean_prices = np.mean(stock_prices, axis=0)\n",
        "std_prices = np.std(stock_prices, axis=0)\n",
        "\n",
        "# Normalize the stock prices\n",
        "normalized_prices = (stock_prices - mean_prices) / std_prices\n",
        "# normalized_prices is:\n",
        "# array([[-1.34164079, -1.34164079, -1.34164079],\n",
        "#        [-0.4472136 , -0.4472136 , -0.4472136 ],\n",
        "#        [ 0.4472136 ,  0.4472136 ,  0.4472136 ],\n",
        "#        [ 1.34164079,  1.34164079,  1.34164079]])\n"
      ],
      "metadata": {
        "id": "7zCVaPR_Afjk"
      },
      "execution_count": null,
      "outputs": []
    },
    {
      "cell_type": "markdown",
      "source": [
        "In this example, the arrays mean_prices and std_prices are broadcasted across each row of stock_prices to perform element-wise subtraction and division."
      ],
      "metadata": {
        "id": "w1CEoFfsAjDy"
      }
    },
    {
      "cell_type": "markdown",
      "source": [
        "# Example 3: Data Analysis - Scaling Features"
      ],
      "metadata": {
        "id": "nzAl0H_7Alts"
      }
    },
    {
      "cell_type": "markdown",
      "source": [
        "Suppose you have a dataset with multiple features (columns) and want to scale each feature to a range [0, 1]. This is commonly done in machine learning preprocessing."
      ],
      "metadata": {
        "id": "WrWyRvrXAoGn"
      }
    },
    {
      "cell_type": "code",
      "source": [
        "# Example dataset (rows are samples, columns are features)\n",
        "data = np.array([[2.0, 8.0, 6.0],\n",
        "                 [4.0, 2.0, 8.0],\n",
        "                 [1.0, 3.0, 7.0]])\n",
        "\n",
        "# Compute the minimum and maximum values along the columns\n",
        "min_vals = np.min(data, axis=0)\n",
        "max_vals = np.max(data, axis=0)\n",
        "\n",
        "# Scale the dataset to [0, 1]\n",
        "scaled_data = (data - min_vals) / (max_vals - min_vals)\n",
        "# scaled_data is:\n",
        "# array([[0.5       , 1.        , 0.5       ],\n",
        "#        [1.        , 0.        , 1.        ],\n",
        "#        [0.        , 0.16666667, 0.75      ]])\n"
      ],
      "metadata": {
        "id": "BndTQZ90Ao3L"
      },
      "execution_count": null,
      "outputs": []
    },
    {
      "cell_type": "markdown",
      "source": [
        "Here, the arrays min_vals and max_vals are broadcasted across each row of data to perform element-wise subtraction and division."
      ],
      "metadata": {
        "id": "ZBMRFwovAr8H"
      }
    }
  ]
}