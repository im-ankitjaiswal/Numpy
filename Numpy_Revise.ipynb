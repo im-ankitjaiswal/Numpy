{
  "nbformat": 4,
  "nbformat_minor": 0,
  "metadata": {
    "colab": {
      "provenance": [],
      "authorship_tag": "ABX9TyNi+j3N0MEfG2H6Dkz9TLQL",
      "include_colab_link": true
    },
    "kernelspec": {
      "name": "python3",
      "display_name": "Python 3"
    },
    "language_info": {
      "name": "python"
    }
  },
  "cells": [
    {
      "cell_type": "markdown",
      "metadata": {
        "id": "view-in-github",
        "colab_type": "text"
      },
      "source": [
        "<a href=\"https://colab.research.google.com/github/im-ankitjaiswal/Python-Course/blob/main/Numpy_Revise.ipynb\" target=\"_parent\"><img src=\"https://colab.research.google.com/assets/colab-badge.svg\" alt=\"Open In Colab\"/></a>"
      ]
    },
    {
      "cell_type": "markdown",
      "source": [
        "# **NumPy Random**\n",
        "\n"
      ],
      "metadata": {
        "id": "cqIHBEmCBwvn"
      }
    },
    {
      "cell_type": "markdown",
      "source": [
        "# What is a Random Number?\n",
        "Random number does NOT mean a different number every time. Random means something that can not be predicted logically.\n",
        "\n",
        "Pseudo Random and True Random.\n",
        "Computers work on programs, and programs are definitive set of instructions. So it means there must be some algorithm to generate a random number as well.\n",
        "\n",
        "If there is a program to generate random number it can be predicted, thus it is not truly random.\n",
        "\n",
        "Random numbers generated through a generation algorithm are called pseudo random.\n",
        "\n",
        "**Can we make truly random numbers?**\n",
        "\n",
        "Yes. In order to generate a truly random number on our computers we need to get the random data from some outside source. This outside source is generally our keystrokes, mouse movements, data on network etc.\n",
        "\n",
        "We do not need truly random numbers, unless it is related to security (e.g. encryption keys) or the basis of application is the randomness (e.g. Digital roulette wheels).\n",
        "\n",
        "In this tutorial we will be using pseudo random numbers."
      ],
      "metadata": {
        "id": "Jkc84OGeB5D-"
      }
    },
    {
      "cell_type": "markdown",
      "source": [
        "# Generate Random Number\n",
        "NumPy offers the random module to work with random numbers."
      ],
      "metadata": {
        "id": "YHVL2gLnTDHa"
      }
    },
    {
      "cell_type": "code",
      "source": [
        "from numpy import random\n",
        "\n",
        "x = random.randint(100)\n",
        "\n",
        "print(x)"
      ],
      "metadata": {
        "colab": {
          "base_uri": "https://localhost:8080/"
        },
        "id": "CsQIx3vlTEtN",
        "outputId": "3b2a77ad-1b2c-4a05-bd32-fa9fbe4956ce"
      },
      "execution_count": null,
      "outputs": [
        {
          "output_type": "stream",
          "name": "stdout",
          "text": [
            "98\n"
          ]
        }
      ]
    },
    {
      "cell_type": "markdown",
      "source": [
        "# Generate Random Float\n",
        "The random module's rand() method returns a random float between 0 and 1."
      ],
      "metadata": {
        "id": "XLP-BUVATIhx"
      }
    },
    {
      "cell_type": "code",
      "source": [
        "# Generate a random float from 0 to 1:\n",
        "\n",
        "from numpy import random\n",
        "\n",
        "x = random.rand()\n",
        "\n",
        "print(x)\n"
      ],
      "metadata": {
        "colab": {
          "base_uri": "https://localhost:8080/"
        },
        "id": "U5DiNF5HTLai",
        "outputId": "4f29d68b-0f44-490e-a7f9-c5151181550c"
      },
      "execution_count": null,
      "outputs": [
        {
          "output_type": "stream",
          "name": "stdout",
          "text": [
            "0.9060157952352729\n"
          ]
        }
      ]
    },
    {
      "cell_type": "markdown",
      "source": [
        "# Generate Random Array\n",
        "In NumPy we work with arrays, and you can use the two methods from the above examples to make random arrays.\n",
        "\n",
        "**Integers**\n",
        "The randint() method takes a size parameter where you can specify the shape of an array."
      ],
      "metadata": {
        "id": "G3v3hxOsT5Dv"
      }
    },
    {
      "cell_type": "code",
      "source": [
        "# Generate a 1-D array containing 5 random integers from 0 to 100:\n",
        "\n",
        "from numpy import random\n",
        "\n",
        "x=random.randint(100, size=(5))\n",
        "\n",
        "print(x)"
      ],
      "metadata": {
        "colab": {
          "base_uri": "https://localhost:8080/"
        },
        "id": "yXmoGk5aT6h1",
        "outputId": "884ad5a6-6e13-460c-dd65-7eedd7f3b7e0"
      },
      "execution_count": null,
      "outputs": [
        {
          "output_type": "stream",
          "name": "stdout",
          "text": [
            "[76 55 72 76 63]\n"
          ]
        }
      ]
    },
    {
      "cell_type": "code",
      "source": [
        "# Generate a 2-D array with 3 rows, each row containing 5 random integers from 0 to 100:\n",
        "\n",
        "from numpy import random\n",
        "\n",
        "x = random.randint(100, size=(3, 5))\n",
        "\n",
        "print(x)"
      ],
      "metadata": {
        "colab": {
          "base_uri": "https://localhost:8080/"
        },
        "id": "Hb74vRenXE_V",
        "outputId": "6f357ab5-df3f-4fb2-d8f8-63a1d4c5faf5"
      },
      "execution_count": null,
      "outputs": [
        {
          "output_type": "stream",
          "name": "stdout",
          "text": [
            "[[56  5 35 53 41]\n",
            " [15 93 45 62 29]\n",
            " [78 97 43 94 83]]\n"
          ]
        }
      ]
    },
    {
      "cell_type": "markdown",
      "source": [
        "**Floats** <br>\n",
        "The rand() method also allows you to specify the shape of the array."
      ],
      "metadata": {
        "id": "jFcmrYdZXLYi"
      }
    },
    {
      "cell_type": "code",
      "source": [
        "# Generate a 1-D array containing 5 random floats:\n",
        "\n",
        "from numpy import random\n",
        "\n",
        "x = random.rand(5)\n",
        "\n",
        "print(x)"
      ],
      "metadata": {
        "colab": {
          "base_uri": "https://localhost:8080/"
        },
        "id": "fmJV0yCAXMJT",
        "outputId": "e5852b3b-f03b-4029-8055-3649e0e5433e"
      },
      "execution_count": null,
      "outputs": [
        {
          "output_type": "stream",
          "name": "stdout",
          "text": [
            "[0.11693083 0.77089892 0.62163236 0.34445347 0.39263053]\n"
          ]
        }
      ]
    },
    {
      "cell_type": "code",
      "source": [
        "# Generate a 2-D array with 3 rows, each row containing 5 random numbers:\n",
        "\n",
        "from numpy import random\n",
        "\n",
        "x = random.rand(3, 5)\n",
        "\n",
        "print(x)"
      ],
      "metadata": {
        "colab": {
          "base_uri": "https://localhost:8080/"
        },
        "id": "7Gv_bXuxXd84",
        "outputId": "5c81fbfc-6789-4e7a-e76d-c8ffba1284cd"
      },
      "execution_count": null,
      "outputs": [
        {
          "output_type": "stream",
          "name": "stdout",
          "text": [
            "[[0.06522341 0.94989708 0.34574719 0.5802467  0.60618651]\n",
            " [0.39279137 0.17430449 0.06638995 0.06504513 0.57305123]\n",
            " [0.30646159 0.46067649 0.57864284 0.09301308 0.93319108]]\n"
          ]
        }
      ]
    },
    {
      "cell_type": "markdown",
      "source": [
        "# Generate Random Number From Array\n",
        "The choice() method allows you to generate a random value based on an array of values.\n",
        "\n",
        "The choice() method takes an array as a parameter and randomly returns one of the values."
      ],
      "metadata": {
        "id": "k5lVOs7PXquB"
      }
    },
    {
      "cell_type": "code",
      "source": [
        "# Return one of the values in an array:\n",
        "\n",
        "from numpy import random\n",
        "\n",
        "x = random.choice([3, 5, 7, 9])\n",
        "\n",
        "print(x)"
      ],
      "metadata": {
        "colab": {
          "base_uri": "https://localhost:8080/"
        },
        "id": "wVPpZTs0Xse5",
        "outputId": "d1ed5a6f-87e2-47ae-aa7d-e9a75776d64c"
      },
      "execution_count": null,
      "outputs": [
        {
          "output_type": "stream",
          "name": "stdout",
          "text": [
            "7\n"
          ]
        }
      ]
    },
    {
      "cell_type": "markdown",
      "source": [
        "The choice() method also allows you to return an array of values.\n",
        "\n",
        "Add a size parameter to specify the shape of the array."
      ],
      "metadata": {
        "id": "jCvGptbQX3JV"
      }
    },
    {
      "cell_type": "code",
      "source": [
        "# Generate a 2-D array that consists of the values in the array parameter (3, 5, 7, and 9):\n",
        "\n",
        "from numpy import random\n",
        "\n",
        "x = random.choice([3, 5, 7, 9], size=(3, 5))\n",
        "\n",
        "print(x)"
      ],
      "metadata": {
        "colab": {
          "base_uri": "https://localhost:8080/"
        },
        "id": "SH1MBbnNX3qU",
        "outputId": "76754b7d-60f2-4079-e9c3-5b199114fb2a"
      },
      "execution_count": null,
      "outputs": [
        {
          "output_type": "stream",
          "name": "stdout",
          "text": [
            "[[5 9 3 3 9]\n",
            " [3 5 9 7 7]\n",
            " [7 7 7 7 9]]\n"
          ]
        }
      ]
    },
    {
      "cell_type": "markdown",
      "source": [],
      "metadata": {
        "id": "1F7DCl3XrjWC"
      }
    },
    {
      "cell_type": "code",
      "source": [
        "print(\"I am the best in Cumputer Science\")"
      ],
      "metadata": {
        "colab": {
          "base_uri": "https://localhost:8080/"
        },
        "id": "khrgY3KuHprk",
        "outputId": "98950314-d755-423d-dff0-cc79f79ab0e0"
      },
      "execution_count": null,
      "outputs": [
        {
          "output_type": "stream",
          "name": "stdout",
          "text": [
            "I am the best in Cumputer Science\n"
          ]
        }
      ]
    },
    {
      "cell_type": "markdown",
      "source": [
        "# **Random Data Distribution**\n",
        "Data distribution describes how data points are spread or distributed across a range of values. It helps in understanding the pattern, spread, and central tendency of the data. In Python, especially with the NumPy library, you can create and analyze data distributions easily.\n",
        "\n",
        "# Understanding Data Distribution in NumPy\n",
        "NumPy is a powerful library for numerical computing in Python. It offers several functions to generate data that follow specific distributions, which is essential for statistical analysis and simulation."
      ],
      "metadata": {
        "id": "AE_F4XiG9b3M"
      }
    },
    {
      "cell_type": "markdown",
      "source": [
        "# Random Distribution\n",
        "A random distribution is a set of random numbers that follow a certain probability density function.\n",
        "\n",
        "**Probability Density Function: A function that describes a continuous probability. i.e. probability of all values in an array.**\n",
        "\n",
        "We can generate random numbers based on defined probabilities using the choice() method of the random module.\n",
        "\n",
        "The choice() method allows us to specify the probability for each value.\n",
        "\n",
        "The probability is set by a number between 0 and 1, where 0 means that the value will never occur and 1 means that the value will always occur."
      ],
      "metadata": {
        "id": "zIr8dJihGyZo"
      }
    },
    {
      "cell_type": "code",
      "source": [
        "# Example\n",
        "# Generate a 1-D array containing 100 values, where each value has to be 3, 5, 7 or 9.\n",
        "\n",
        "# The probability for the value to be 3 is set to be 0.1\n",
        "\n",
        "# The probability for the value to be 5 is set to be 0.3\n",
        "\n",
        "# The probability for the value to be 7 is set to be 0.6\n",
        "\n",
        "# The probability for the value to be 9 is set to be 0\n",
        "\n",
        "from numpy import random\n",
        "\n",
        "x = random.choice([3, 5, 7, 9], p=[0.1, 0.3, 0.6, 0.0], size=(100))\n",
        "\n",
        "print(x)\n",
        "\n",
        "# The sum of all probability numbers should be 1."
      ],
      "metadata": {
        "colab": {
          "base_uri": "https://localhost:8080/"
        },
        "id": "zTuIwbM2_WYD",
        "outputId": "c3d54d6f-bfa5-4234-f7b5-dcf8d46843aa"
      },
      "execution_count": null,
      "outputs": [
        {
          "output_type": "stream",
          "name": "stdout",
          "text": [
            "[7 3 7 7 3 7 7 7 7 3 3 7 5 3 5 7 7 7 5 7 7 7 5 7 5 7 3 5 5 7 7 7 5 7 5 7 7\n",
            " 3 7 5 7 7 7 7 5 7 7 5 7 5 7 7 5 7 7 5 7 7 7 7 5 5 7 5 5 5 5 7 3 7 7 5 5 7\n",
            " 7 5 7 7 5 7 5 7 5 7 3 7 3 7 7 5 7 3 7 5 5 7 7 3 3 7]\n"
          ]
        }
      ]
    },
    {
      "cell_type": "code",
      "source": [
        "# Even if you run the example above 100 times, the value 9 will never occur.\n",
        "# You can return arrays of any shape and size by specifying the shape in the size parameter.\n",
        "\n",
        "# Example 2: Same example as above, but return a 2-D array with 3 rows, each containing 5 values.\n",
        "\n",
        "from numpy import random\n",
        "\n",
        "x = random.choice([3, 5, 7, 9], p=[0.1, 0.3, 0.6, 0.0], size=(3, 5))\n",
        "\n",
        "print(x)"
      ],
      "metadata": {
        "colab": {
          "base_uri": "https://localhost:8080/"
        },
        "id": "VgJpfeMuHr97",
        "outputId": "bad0e390-5bf6-4674-e995-b652ad50460b"
      },
      "execution_count": null,
      "outputs": [
        {
          "output_type": "stream",
          "name": "stdout",
          "text": [
            "[[5 3 3 5 7]\n",
            " [5 3 3 7 7]\n",
            " [5 5 7 5 5]]\n"
          ]
        }
      ]
    },
    {
      "cell_type": "markdown",
      "source": [
        "# Random Permutations of Elements\n",
        "A permutation refers to an arrangement of elements. e.g. [3, 2, 1] is a permutation of [1, 2, 3] and vice-versa.\n",
        "\n",
        "The NumPy Random module provides two methods for this: shuffle() and permutation()."
      ],
      "metadata": {
        "id": "HPlp7FkPH6fw"
      }
    },
    {
      "cell_type": "markdown",
      "source": [
        "# Shuffling Arrays\n",
        "Shuffle means changing arrangement of elements in-place. i.e. in the array itself."
      ],
      "metadata": {
        "id": "BqyRlZ1IIO_U"
      }
    },
    {
      "cell_type": "code",
      "source": [
        "# Example: -\n",
        "# Randomly shuffle elements of following array:\n",
        "\n",
        "from numpy import random\n",
        "import numpy as np\n",
        "\n",
        "arr = np.array([1, 2, 3, 4, 5])\n",
        "\n",
        "random.shuffle(arr)\n",
        "\n",
        "print(arr)"
      ],
      "metadata": {
        "colab": {
          "base_uri": "https://localhost:8080/"
        },
        "id": "nJD_4antILlh",
        "outputId": "47c0b122-91d6-4393-f433-e0075a65e924"
      },
      "execution_count": null,
      "outputs": [
        {
          "output_type": "stream",
          "name": "stdout",
          "text": [
            "[2 1 3 4 5]\n"
          ]
        }
      ]
    },
    {
      "cell_type": "markdown",
      "source": [
        "The shuffle() method makes changes to the original array.\n",
        "\n"
      ],
      "metadata": {
        "id": "GZwg-e0gIYeT"
      }
    },
    {
      "cell_type": "markdown",
      "source": [
        "**Generating Permutation of Arrays**"
      ],
      "metadata": {
        "id": "LK4aghbUIfFT"
      }
    },
    {
      "cell_type": "code",
      "source": [
        "# Example\n",
        "# Generate a random permutation of elements of following array:\n",
        "\n",
        "from numpy import random\n",
        "import numpy as np\n",
        "\n",
        "arr = np.array([1, 2, 3, 4, 5])\n",
        "\n",
        "print(random.permutation(arr))\n"
      ],
      "metadata": {
        "colab": {
          "base_uri": "https://localhost:8080/"
        },
        "id": "k_-GNNcAIZM8",
        "outputId": "394b1ac6-53a6-40f4-b800-ed0e2c929b9c"
      },
      "execution_count": null,
      "outputs": [
        {
          "output_type": "stream",
          "name": "stdout",
          "text": [
            "[1 2 3 5 4]\n"
          ]
        }
      ]
    },
    {
      "cell_type": "markdown",
      "source": [
        "The permutation() method returns a re-arranged array (and leaves the original array un-changed). Means Our arr is same as before"
      ],
      "metadata": {
        "id": "qQ5koSfmIrMQ"
      }
    },
    {
      "cell_type": "markdown",
      "source": [
        "# **Seaborn**\n",
        "Seaborn is a powerful visualization library built on top of Matplotlib, offering a high-level interface for drawing attractive statistical graphics. The page explains how to generate data using NumPy and create visualizations like histograms, kernel density plots, and rug plots using Seaborn functions."
      ],
      "metadata": {
        "id": "etj_soCfIstG"
      }
    },
    {
      "cell_type": "markdown",
      "source": [
        "## **Distplots**\n",
        "Distplot stands for distribution plot, it takes as input an array and plots a curve corresponding to the distribution of points in the array."
      ],
      "metadata": {
        "id": "oDbeGj78KQw7"
      }
    },
    {
      "cell_type": "markdown",
      "source": [
        "## Plotting a Distplot"
      ],
      "metadata": {
        "id": "JesbP6WOKnY4"
      }
    },
    {
      "cell_type": "code",
      "source": [
        "import matplotlib.pyplot as plt\n",
        "import seaborn as sns\n",
        "\n",
        "sns.distplot([0, 1, 2, 3, 4, 5])\n",
        "\n",
        "plt.show()"
      ],
      "metadata": {
        "colab": {
          "base_uri": "https://localhost:8080/",
          "height": 621
        },
        "id": "9k45V8GyKpM0",
        "outputId": "100164ae-29d5-4c10-ecdc-7e9f7e5a379f"
      },
      "execution_count": null,
      "outputs": [
        {
          "output_type": "stream",
          "name": "stderr",
          "text": [
            "<ipython-input-12-f3b28c97675e>:4: UserWarning: \n",
            "\n",
            "`distplot` is a deprecated function and will be removed in seaborn v0.14.0.\n",
            "\n",
            "Please adapt your code to use either `displot` (a figure-level function with\n",
            "similar flexibility) or `histplot` (an axes-level function for histograms).\n",
            "\n",
            "For a guide to updating your code to use the new functions, please see\n",
            "https://gist.github.com/mwaskom/de44147ed2974457ad6372750bbe5751\n",
            "\n",
            "  sns.distplot([0, 1, 2, 3, 4, 5])\n"
          ]
        },
        {
          "output_type": "display_data",
          "data": {
            "text/plain": [
              "<Figure size 640x480 with 1 Axes>"
            ],
            "image/png": "[encoded data removed]"
          },
          "metadata": {}
        }
      ]
    },
    {
      "cell_type": "code",
      "source": [
        "# Basic Example\n",
        "import numpy as np\n",
        "import seaborn as sns\n",
        "import matplotlib.pyplot as plt\n",
        "\n",
        "# Generate random data\n",
        "data = np.random.normal(size=1000)\n",
        "\n",
        "# Create a histogram with Seaborn\n",
        "sns.histplot(data, kde=True)\n",
        "plt.show()\n",
        "\n",
        "\n",
        "# Common Plot Types\n",
        "# Histograms: sns.histplot()\n",
        "# Kernel Density Estimations (KDE): sns.kdeplot()\n",
        "# Box Plots: sns.boxplot()\n",
        "# Violin Plots: sns.violinplot()\n",
        "# Pair Plots: sns.pairplot()"
      ],
      "metadata": {
        "colab": {
          "base_uri": "https://localhost:8080/",
          "height": 430
        },
        "id": "jlJdgy2TK67x",
        "outputId": "7f9d8de1-ff67-4c6e-dc66-312c4c30ec68"
      },
      "execution_count": null,
      "outputs": [
        {
          "output_type": "display_data",
          "data": {
            "text/plain": [
              "<Figure size 640x480 with 1 Axes>"
            ],
            "image/png": "[encoded data removed]"
          },
          "metadata": {}
        }
      ]
    },
    {
      "cell_type": "markdown",
      "source": [
        "# Normal (Gaussian) Distribution\n",
        "The normal distribution, also known as the Gaussian distribution, is a continuous probability distribution that is symmetrical around its mean. It is characterized by its bell-shaped curve.\n",
        "\n",
        "The Normal Distribution is one of the most important distributions.\n",
        "\n",
        "It is also called the Gaussian Distribution after the German mathematician Carl Friedrich Gauss.\n",
        "\n",
        "It fits the probability distribution of many events, eg. IQ Scores, Heartbeat etc.\n",
        "\n",
        "Use the random.normal() method to get a Normal Data Distribution.\n",
        "\n",
        "It has three parameters:\n",
        "\n",
        "loc - (Mean) where the peak of the bell exists.\n",
        "\n",
        "scale - (Standard Deviation) how flat the graph distribution should be.\n",
        "\n",
        "size - The shape of the returned array."
      ],
      "metadata": {
        "id": "TlpHbIdULoBr"
      }
    },
    {
      "cell_type": "code",
      "source": [
        "# Generate a random normal distribution of size 2x3:\n",
        "\n",
        "from numpy import random\n",
        "\n",
        "x = random.normal(size=(2, 3))\n",
        "\n",
        "print(x)"
      ],
      "metadata": {
        "colab": {
          "base_uri": "https://localhost:8080/"
        },
        "id": "2yERY7gRL4mI",
        "outputId": "8e943e14-e0cb-4f8f-8f8e-46fbaae6bdf3"
      },
      "execution_count": null,
      "outputs": [
        {
          "output_type": "stream",
          "name": "stdout",
          "text": [
            "[[-0.95601299 -1.44990511  0.62062911]\n",
            " [-1.0275877  -0.44245328  0.58393921]]\n"
          ]
        }
      ]
    },
    {
      "cell_type": "code",
      "source": [
        "# Generate a random normal distribution of size 2x3 with mean at 1 and standard deviation of 2:\n",
        "\n",
        "from numpy import random\n",
        "\n",
        "x = random.normal(loc=1, scale=2, size=(2, 3))\n",
        "\n",
        "print(x)"
      ],
      "metadata": {
        "colab": {
          "base_uri": "https://localhost:8080/"
        },
        "id": "IgRmnPTnMKmh",
        "outputId": "fc40ccaf-8a47-42bf-d64f-4f771dc7888b"
      },
      "execution_count": null,
      "outputs": [
        {
          "output_type": "stream",
          "name": "stdout",
          "text": [
            "[[ 1.68596396 -4.31002486 -1.76384907]\n",
            " [ 0.35824632  2.39693402 -1.04697021]]\n"
          ]
        }
      ]
    },
    {
      "cell_type": "markdown",
      "source": [
        "# Visualization of Normal Distribution\n"
      ],
      "metadata": {
        "id": "UWTLJ2xnMS-i"
      }
    },
    {
      "cell_type": "code",
      "source": [
        "from numpy import random\n",
        "import matplotlib.pyplot as plt\n",
        "import seaborn as sns\n",
        "\n",
        "sns.distplot(random.normal(size=1000), hist=False)\n",
        "\n",
        "plt.show()"
      ],
      "metadata": {
        "id": "FFxynp7MMZZz",
        "outputId": "4a9f1985-dba2-453b-fcea-61c7ef66e379",
        "colab": {
          "base_uri": "https://localhost:8080/",
          "height": 626
        }
      },
      "execution_count": null,
      "outputs": [
        {
          "output_type": "stream",
          "name": "stderr",
          "text": [
            "<ipython-input-18-2f9e2247caac>:5: UserWarning: \n",
            "\n",
            "`distplot` is a deprecated function and will be removed in seaborn v0.14.0.\n",
            "\n",
            "Please adapt your code to use either `displot` (a figure-level function with\n",
            "similar flexibility) or `kdeplot` (an axes-level function for kernel density plots).\n",
            "\n",
            "For a guide to updating your code to use the new functions, please see\n",
            "https://gist.github.com/mwaskom/de44147ed2974457ad6372750bbe5751\n",
            "\n",
            "  sns.distplot(random.normal(size=1000), hist=False)\n"
          ]
        },
        {
          "output_type": "display_data",
          "data": {
            "text/plain": [
              "<Figure size 640x480 with 1 Axes>"
            ],
            "image/png": "[encoded data removed]"
          },
          "metadata": {}
        }
      ]
    }
  ]
}